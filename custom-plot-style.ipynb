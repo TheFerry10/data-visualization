{
 "cells": [
  {
   "cell_type": "markdown",
   "metadata": {},
   "source": [
    "# Custom plot style based on seaborn "
   ]
  },
  {
   "cell_type": "markdown",
   "metadata": {},
   "source": [
    "Import standard libaries"
   ]
  },
  {
   "cell_type": "code",
   "execution_count": 1,
   "metadata": {},
   "outputs": [],
   "source": [
    "%matplotlib inline\n",
    "import numpy as np\n",
    "import matplotlib as mpl\n",
    "import matplotlib.pyplot as plt\n",
    "import seaborn as sns\n",
    "import os\n",
    "import itertools\n",
    "from scipy import constants"
   ]
  },
  {
   "cell_type": "markdown",
   "metadata": {},
   "source": [
    "Import custom libaries and set plot style"
   ]
  },
  {
   "cell_type": "code",
   "execution_count": 2,
   "metadata": {},
   "outputs": [],
   "source": [
    "# set custom matplotlib rc file \n",
    "url_rcfile = 'https://raw.githubusercontent.com/TheFerry10/ml-parameter-identification/master/seaborn-custom-style.mplstyle'\n",
    "mpl.style.use(url_rcfile)\n",
    "\n",
    "# Uncomment the following lines, if you wish to use latex fonts in matplotlib\n",
    "# figures. The first line installs latex fonts, while the second line activates\n",
    "# the fonts in the matplotlib rc file\n",
    "\n",
    "#!apt install texlive-fonts-recommended texlive-fonts-extra cm-super dvipng\n",
    "mpl.rcParams['text.usetex'] = True"
   ]
  },
  {
   "cell_type": "code",
   "execution_count": 3,
   "metadata": {},
   "outputs": [],
   "source": [
    "class CustomPlotStyle(object):\n",
    "    def __init__(self, textwidth_in_inches=6.30):\n",
    "        self.TEXTWIDTH_LATEX = textwidth_in_inches\n",
    "        self.ASPECT_RATIO = 4/3\n",
    "        self.SCALE = 1.0\n",
    "        self.WIDTH = self.SCALE * self.TEXTWIDTH_LATEX\n",
    "        self.HEIGHT = self.WIDTH / self.ASPECT_RATIO\n",
    "        self.PALETTE = sns.color_palette(mpl.colors.TABLEAU_COLORS)\n",
    "        self.MARKERS = ['o', 's', '^', 'v', 'D','P','X','*']\n",
    "    \n",
    "    def create_figure(self, width=None, height=None, aspect_ratio=None, width_scale=None):\n",
    "        if width_scale is None:\n",
    "            width_scale = self.SCALE\n",
    "        if width is None:\n",
    "            width = self.TEXTWIDTH_LATEX * width_scale\n",
    "        if height is None:\n",
    "            height = width / self.ASPECT_RATIO\n",
    "        if aspect_ratio is not None:\n",
    "            height =  width / aspect_ratio\n",
    "        fig, ax = plt.subplots(figsize=(width, height), tight_layout=True)\n",
    "        return fig, ax    \n",
    "    \n",
    "    def get_marker_cycle(self):\n",
    "        return itertools.cycle(self.MARKERS)\n",
    "\n",
    "    def get_color_cycle(self):\n",
    "        return itertools.cycle(self.PALETTE)  \n",
    "\n",
    "\n",
    "def create_label_without_line(label, ax):\n",
    "    return ax.plot([],[],label=label, linewidth=0, color='k')\n",
    "\n",
    "def set_figsize(width=6.3, aspect_ratio=4/3, width_scale=1.0):\n",
    "    width = width * width_scale\n",
    "    height =  width / aspect_ratio\n",
    "    return (width, height)    \n",
    "\n",
    "def save_fig(file_name, output_dir='', dpi=300, file_extensions=['.pdf','.png']):\n",
    "    file_name = os.path.join(output_dir,file_name)\n",
    "    for file_extension in file_extensions:\n",
    "        plt.gcf().savefig(file_name + file_extension, dpi=dpi)\n",
    "        \n",
    "        \n",
    "class PlotLabels(object):\n",
    "    \"\"\"Creating plot labels for convenience and use them globally\"\"\"\n",
    "    def __init__(self):\n",
    "        self.time = r'Time $t$ [s]'  \n",
    "        self.molarConcentration = r'Concentration $c_m$ [mol/m$^3$]'"
   ]
  },
  {
   "cell_type": "code",
   "execution_count": 4,
   "metadata": {},
   "outputs": [],
   "source": [
    "def convert_centimeters_to_inches(length_in_centimeters):\n",
    "    return length_in_centimeters * constants.centi / constants.inch"
   ]
  },
  {
   "cell_type": "code",
   "execution_count": 5,
   "metadata": {},
   "outputs": [],
   "source": [
    "TEXTWIDTH_IN_CENTIMETERS = 16\n",
    "plotStyle = CustomPlotStyle(textwidth_in_inches=convert_centimeters_to_inches(TEXTWIDTH_IN_CENTIMETERS))\n",
    "plotLabels = PlotLabels()\n",
    "#sns.set_context(\"talk\", font_scale=1.2)"
   ]
  },
  {
   "cell_type": "markdown",
   "metadata": {},
   "source": [
    "Set input and output directory"
   ]
  },
  {
   "cell_type": "code",
   "execution_count": 6,
   "metadata": {},
   "outputs": [],
   "source": [
    "INPUT_DIR = 'input-data'\n",
    "OUTPUT_DIR = 'output-data'"
   ]
  },
  {
   "cell_type": "code",
   "execution_count": 7,
   "metadata": {},
   "outputs": [],
   "source": [
    "PATH_TO_FIGURES =  os.path.join(OUTPUT_DIR, 'fig/')\n",
    "if not os.path.isdir(PATH_TO_FIGURES):\n",
    "    os.mkdir(PATH_TO_FIGURES)"
   ]
  },
  {
   "cell_type": "markdown",
   "metadata": {},
   "source": [
    "Plot and save an example figure"
   ]
  },
  {
   "cell_type": "code",
   "execution_count": 8,
   "metadata": {},
   "outputs": [
    {
     "data": {
      "image/png": "[encoded data removed]",
      "text/plain": [
       "<Figure size 317.48x238.11 with 1 Axes>"
      ]
     },
     "metadata": {},
     "output_type": "display_data"
    }
   ],
   "source": [
    "t = np.linspace(0,10)\n",
    "MARKERS = plotStyle.get_marker_cycle()\n",
    "fig, ax = plotStyle.create_figure(width_scale=0.7)\n",
    "create_label_without_line(r'function: $c(t) = a\\,t^2$',ax)\n",
    "[ax.plot(t,coefficient*1e-5*t**2,\n",
    "         marker=next(MARKERS),\n",
    "         label=f'$a$ = {coefficient}',markevery=2) \\\n",
    "         for coefficient in np.arange(5)];\n",
    "\n",
    "ax.legend();\n",
    "ax.set_xlabel(plotLabels.time)\n",
    "ax.set_ylabel(plotLabels.molarConcentration)\n",
    "save_fig(file_name='some-simple-functions', output_dir=PATH_TO_FIGURES, dpi=300, file_extensions=['.eps','.png','.pdf'])"
   ]
  },
  {
   "cell_type": "markdown",
   "metadata": {},
   "source": [
    "Load the saved image. Note that the output in the Jupyter notebook in the plot above is a resized version of the saved image. "
   ]
  },
  {
   "cell_type": "markdown",
   "metadata": {},
   "source": [
    "![title](output-data/fig/some-simple-functions.png)"
   ]
  },
  {
   "cell_type": "code",
   "execution_count": null,
   "metadata": {},
   "outputs": [],
   "source": []
  }
 ],
 "metadata": {
  "kernelspec": {
   "display_name": "Python 3",
   "language": "python",
   "name": "python3"
  },
  "language_info": {
   "codemirror_mode": {
    "name": "ipython",
    "version": 3
   },
   "file_extension": ".py",
   "mimetype": "text/x-python",
   "name": "python",
   "nbconvert_exporter": "python",
   "pygments_lexer": "ipython3",
   "version": "3.7.8"
  }
 },
 "nbformat": 4,
 "nbformat_minor": 4
}
